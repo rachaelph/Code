{
 "cells": [
  {
   "cell_type": "markdown",
   "metadata": {},
   "source": [
    "### Data Deduplication"
   ]
  },
  {
   "cell_type": "code",
   "execution_count": 104,
   "metadata": {},
   "outputs": [],
   "source": [
    "import recordlinkage\n",
    "from recordlinkage.datasets import load_febrl1"
   ]
  },
  {
   "cell_type": "code",
   "execution_count": 105,
   "metadata": {},
   "outputs": [
    {
     "data": {
      "text/html": [
       "<div>\n",
       "<style scoped>\n",
       "    .dataframe tbody tr th:only-of-type {\n",
       "        vertical-align: middle;\n",
       "    }\n",
       "\n",
       "    .dataframe tbody tr th {\n",
       "        vertical-align: top;\n",
       "    }\n",
       "\n",
       "    .dataframe thead th {\n",
       "        text-align: right;\n",
       "    }\n",
       "</style>\n",
       "<table border=\"1\" class=\"dataframe\">\n",
       "  <thead>\n",
       "    <tr style=\"text-align: right;\">\n",
       "      <th></th>\n",
       "      <th>given_name</th>\n",
       "      <th>surname</th>\n",
       "      <th>street_number</th>\n",
       "      <th>address_1</th>\n",
       "      <th>address_2</th>\n",
       "      <th>suburb</th>\n",
       "      <th>postcode</th>\n",
       "      <th>state</th>\n",
       "      <th>date_of_birth</th>\n",
       "      <th>soc_sec_id</th>\n",
       "    </tr>\n",
       "    <tr>\n",
       "      <th>rec_id</th>\n",
       "      <th></th>\n",
       "      <th></th>\n",
       "      <th></th>\n",
       "      <th></th>\n",
       "      <th></th>\n",
       "      <th></th>\n",
       "      <th></th>\n",
       "      <th></th>\n",
       "      <th></th>\n",
       "      <th></th>\n",
       "    </tr>\n",
       "  </thead>\n",
       "  <tbody>\n",
       "    <tr>\n",
       "      <th>rec-223-org</th>\n",
       "      <td>NaN</td>\n",
       "      <td>waller</td>\n",
       "      <td>6</td>\n",
       "      <td>tullaroop street</td>\n",
       "      <td>willaroo</td>\n",
       "      <td>st james</td>\n",
       "      <td>4011</td>\n",
       "      <td>wa</td>\n",
       "      <td>19081209</td>\n",
       "      <td>6988048</td>\n",
       "    </tr>\n",
       "    <tr>\n",
       "      <th>rec-122-org</th>\n",
       "      <td>lachlan</td>\n",
       "      <td>berry</td>\n",
       "      <td>69</td>\n",
       "      <td>giblin street</td>\n",
       "      <td>killarney</td>\n",
       "      <td>bittern</td>\n",
       "      <td>4814</td>\n",
       "      <td>qld</td>\n",
       "      <td>19990219</td>\n",
       "      <td>7364009</td>\n",
       "    </tr>\n",
       "    <tr>\n",
       "      <th>rec-373-org</th>\n",
       "      <td>deakin</td>\n",
       "      <td>sondergeld</td>\n",
       "      <td>48</td>\n",
       "      <td>goldfinch circuit</td>\n",
       "      <td>kooltuo</td>\n",
       "      <td>canterbury</td>\n",
       "      <td>2776</td>\n",
       "      <td>vic</td>\n",
       "      <td>19600210</td>\n",
       "      <td>2635962</td>\n",
       "    </tr>\n",
       "    <tr>\n",
       "      <th>rec-10-dup-0</th>\n",
       "      <td>kayla</td>\n",
       "      <td>harrington</td>\n",
       "      <td>NaN</td>\n",
       "      <td>maltby circuit</td>\n",
       "      <td>coaling</td>\n",
       "      <td>coolaroo</td>\n",
       "      <td>3465</td>\n",
       "      <td>nsw</td>\n",
       "      <td>19150612</td>\n",
       "      <td>9004242</td>\n",
       "    </tr>\n",
       "    <tr>\n",
       "      <th>rec-227-org</th>\n",
       "      <td>luke</td>\n",
       "      <td>purdon</td>\n",
       "      <td>23</td>\n",
       "      <td>ramsay place</td>\n",
       "      <td>mirani</td>\n",
       "      <td>garbutt</td>\n",
       "      <td>2260</td>\n",
       "      <td>vic</td>\n",
       "      <td>19831024</td>\n",
       "      <td>8099933</td>\n",
       "    </tr>\n",
       "  </tbody>\n",
       "</table>\n",
       "</div>"
      ],
      "text/plain": [
       "             given_name     surname street_number          address_1  \\\n",
       "rec_id                                                                 \n",
       "rec-223-org         NaN      waller             6   tullaroop street   \n",
       "rec-122-org     lachlan       berry            69      giblin street   \n",
       "rec-373-org      deakin  sondergeld            48  goldfinch circuit   \n",
       "rec-10-dup-0      kayla  harrington           NaN     maltby circuit   \n",
       "rec-227-org        luke      purdon            23       ramsay place   \n",
       "\n",
       "              address_2      suburb postcode state date_of_birth soc_sec_id  \n",
       "rec_id                                                                       \n",
       "rec-223-org    willaroo    st james     4011    wa      19081209    6988048  \n",
       "rec-122-org   killarney     bittern     4814   qld      19990219    7364009  \n",
       "rec-373-org     kooltuo  canterbury     2776   vic      19600210    2635962  \n",
       "rec-10-dup-0    coaling    coolaroo     3465   nsw      19150612    9004242  \n",
       "rec-227-org      mirani     garbutt     2260   vic      19831024    8099933  "
      ]
     },
     "execution_count": 105,
     "metadata": {},
     "output_type": "execute_result"
    }
   ],
   "source": [
    "dfA = load_febrl1()\n",
    "\n",
    "dfA.head()"
   ]
  },
  {
   "cell_type": "markdown",
   "metadata": {},
   "source": [
    "##### Indexer \n",
    "Creates the entire combinations of the indexes in dfA"
   ]
  },
  {
   "cell_type": "code",
   "execution_count": 106,
   "metadata": {},
   "outputs": [
    {
     "name": "stdout",
     "output_type": "stream",
     "text": [
      "WARNING:recordlinkage:indexing - performance warning - A full index can result in large number of record pairs.\n"
     ]
    }
   ],
   "source": [
    "indexer = recordlinkage.Index()\n",
    "indexer.full()\n",
    "candidate_links = indexer.index(dfA)"
   ]
  },
  {
   "cell_type": "code",
   "execution_count": 107,
   "metadata": {},
   "outputs": [
    {
     "data": {
      "text/plain": [
       "pandas.core.indexes.multi.MultiIndex"
      ]
     },
     "execution_count": 107,
     "metadata": {},
     "output_type": "execute_result"
    }
   ],
   "source": [
    "type(candidate_links)"
   ]
  },
  {
   "cell_type": "markdown",
   "metadata": {},
   "source": [
    "Below we are printing the number or rows we have and the number of combinations we have"
   ]
  },
  {
   "cell_type": "code",
   "execution_count": 108,
   "metadata": {},
   "outputs": [
    {
     "name": "stdout",
     "output_type": "stream",
     "text": [
      "1000 499500\n"
     ]
    }
   ],
   "source": [
    "print(len(dfA), len(candidate_links))"
   ]
  },
  {
   "cell_type": "markdown",
   "metadata": {},
   "source": [
    "Another method for indexing is called blockage. In this case it is automatically grouping together any instances where the given names are identical or more stored attributes of the person (or entity). "
   ]
  },
  {
   "cell_type": "code",
   "execution_count": 109,
   "metadata": {},
   "outputs": [
    {
     "name": "stdout",
     "output_type": "stream",
     "text": [
      "290\n"
     ]
    }
   ],
   "source": [
    "indexer = recordlinkage.Index()\n",
    "indexer.block(['given_name','date_of_birth'])\n",
    "candidate_links = indexer.index(dfA)\n",
    "\n",
    "print (len(candidate_links))"
   ]
  },
  {
   "cell_type": "code",
   "execution_count": 110,
   "metadata": {},
   "outputs": [
    {
     "data": {
      "text/plain": [
       "MultiIndex([('rec-122-dup-0',   'rec-122-org'),\n",
       "            ('rec-373-dup-0',   'rec-373-org'),\n",
       "            (   'rec-10-org',  'rec-10-dup-0'),\n",
       "            ('rec-294-dup-0',   'rec-294-org'),\n",
       "            (   'rec-81-org',  'rec-81-dup-0'),\n",
       "            ('rec-225-dup-0',   'rec-225-org'),\n",
       "            ('rec-452-dup-0',   'rec-452-org'),\n",
       "            ( 'rec-67-dup-0',    'rec-67-org'),\n",
       "            ('rec-286-dup-0',   'rec-286-org'),\n",
       "            (  'rec-251-org', 'rec-251-dup-0'),\n",
       "            ...\n",
       "            ('rec-298-dup-0',   'rec-298-org'),\n",
       "            ('rec-345-dup-0',   'rec-345-org'),\n",
       "            ( 'rec-16-dup-0',    'rec-16-org'),\n",
       "            (  'rec-318-org', 'rec-318-dup-0'),\n",
       "            ('rec-437-dup-0',   'rec-437-org'),\n",
       "            (  'rec-282-org', 'rec-282-dup-0'),\n",
       "            ('rec-299-dup-0',   'rec-299-org'),\n",
       "            (  'rec-132-org', 'rec-132-dup-0'),\n",
       "            (    'rec-8-org',   'rec-8-dup-0'),\n",
       "            (   'rec-83-org',  'rec-83-dup-0')],\n",
       "           names=['rec_id_1', 'rec_id_2'], length=290)"
      ]
     },
     "execution_count": 110,
     "metadata": {},
     "output_type": "execute_result"
    }
   ],
   "source": [
    "candidate_links"
   ]
  },
  {
   "cell_type": "code",
   "execution_count": 111,
   "metadata": {},
   "outputs": [
    {
     "data": {
      "text/plain": [
       "given_name             lachlan\n",
       "surname                  berry\n",
       "street_number               69\n",
       "address_1        giblin street\n",
       "address_2            killarney\n",
       "suburb                 bittern\n",
       "postcode                  4184\n",
       "state                      qld\n",
       "date_of_birth         19990219\n",
       "soc_sec_id             7364009\n",
       "Name: rec-122-dup-0, dtype: object"
      ]
     },
     "execution_count": 111,
     "metadata": {},
     "output_type": "execute_result"
    }
   ],
   "source": [
    "dfA.loc['rec-122-dup-0']"
   ]
  },
  {
   "cell_type": "code",
   "execution_count": 112,
   "metadata": {},
   "outputs": [
    {
     "data": {
      "text/plain": [
       "given_name             lachlan\n",
       "surname                  berry\n",
       "street_number               69\n",
       "address_1        giblin street\n",
       "address_2            killarney\n",
       "suburb                 bittern\n",
       "postcode                  4814\n",
       "state                      qld\n",
       "date_of_birth         19990219\n",
       "soc_sec_id             7364009\n",
       "Name: rec-122-org, dtype: object"
      ]
     },
     "execution_count": 112,
     "metadata": {},
     "output_type": "execute_result"
    }
   ],
   "source": [
    "dfA.loc['rec-122-org']"
   ]
  },
  {
   "cell_type": "code",
   "execution_count": 113,
   "metadata": {},
   "outputs": [
    {
     "name": "stdout",
     "output_type": "stream",
     "text": [
      "WARNING:recordlinkage:indexing - performance warning - A full index can result in large number of record pairs.\n"
     ]
    }
   ],
   "source": [
    "indexer = recordlinkage.Index()\n",
    "indexer.full()\n",
    "candidate_links = indexer.index(dfA)"
   ]
  },
  {
   "cell_type": "markdown",
   "metadata": {},
   "source": [
    "To make record pairs now, we will have to "
   ]
  },
  {
   "cell_type": "code",
   "execution_count": null,
   "metadata": {},
   "outputs": [],
   "source": [
    "# This cell can take some time to compute.\n",
    "compare_cl = recordlinkage.Compare()\n",
    "\n",
    "compare_cl.string('given_name', 'given_name', threshold = 0.85, label='given_name')\n",
    "compare_cl.string('surname', 'surname', method='jarowinkler', threshold=0.85, label='surname')\n",
    "compare_cl.exact('date_of_birth', 'date_of_birth', label='date_of_birth')\n",
    "compare_cl.exact('suburb', 'suburb', label='suburb')\n",
    "compare_cl.exact('state', 'state', label='state')\n",
    "compare_cl.string('address_1', 'address_1', threshold=0.85, label='address_1')\n",
    "\n",
    "features = compare_cl.compute(candidate_links, dfA)"
   ]
  },
  {
   "cell_type": "code",
   "execution_count": null,
   "metadata": {},
   "outputs": [],
   "source": [
    "features.head(10)"
   ]
  },
  {
   "cell_type": "code",
   "execution_count": null,
   "metadata": {},
   "outputs": [],
   "source": [
    "# Sum the comparison results.\n",
    "features.sum(axis=1).value_counts().sort_index(ascending=False)"
   ]
  },
  {
   "cell_type": "code",
   "execution_count": null,
   "metadata": {},
   "outputs": [],
   "source": [
    "# Classification step\n",
    "matches = features[features.sum(axis=1) > 1]\n",
    "print(len(matches))"
   ]
  },
  {
   "cell_type": "code",
   "execution_count": null,
   "metadata": {},
   "outputs": [],
   "source": [
    "matches"
   ]
  },
  {
   "cell_type": "markdown",
   "metadata": {},
   "source": [
    "### Comparisons Between Data Sources"
   ]
  },
  {
   "cell_type": "code",
   "execution_count": null,
   "metadata": {},
   "outputs": [],
   "source": [
    "from recordlinkage.datasets import load_febrl4\n",
    "dfA, dfB = load_febrl4()\n",
    "\n",
    "dfA"
   ]
  },
  {
   "cell_type": "code",
   "execution_count": null,
   "metadata": {},
   "outputs": [],
   "source": [
    "dfB"
   ]
  },
  {
   "cell_type": "code",
   "execution_count": null,
   "metadata": {},
   "outputs": [],
   "source": [
    "indexer = recordlinkage.Index()\n",
    "indexer.full()\n",
    "pairs = indexer.index(dfA, dfB)"
   ]
  },
  {
   "cell_type": "code",
   "execution_count": null,
   "metadata": {},
   "outputs": [],
   "source": [
    "indexer = recordlinkage.Index()\n",
    "indexer.block('given_name')\n",
    "candidate_links = indexer.index(dfA, dfB)\n",
    "\n",
    "print (len(candidate_links))"
   ]
  },
  {
   "cell_type": "code",
   "execution_count": null,
   "metadata": {},
   "outputs": [],
   "source": [
    "print (len(dfA), len(dfB), len(pairs))"
   ]
  },
  {
   "cell_type": "code",
   "execution_count": null,
   "metadata": {},
   "outputs": [],
   "source": [
    "# This cell can take some time to compute.\n",
    "compare_cl = recordlinkage.Compare()\n",
    "\n",
    "compare_cl.exact('given_name', 'given_name', label='given_name')\n",
    "compare_cl.string('surname', 'surname', method='jarowinkler', threshold=0.85, label='surname')\n",
    "compare_cl.exact('date_of_birth', 'date_of_birth', label='date_of_birth')\n",
    "compare_cl.exact('soc_sec_id','soc_sec_id',label='soc_sec_id')\n",
    "compare_cl.exact('suburb', 'suburb', label='suburb')\n",
    "compare_cl.exact('state', 'state', label='state')\n",
    "compare_cl.string('address_1', 'address_1', threshold=0.85, label='address_1')\n",
    "\n",
    "features = compare_cl.compute(candidate_links, dfA, dfB)"
   ]
  },
  {
   "cell_type": "code",
   "execution_count": null,
   "metadata": {},
   "outputs": [],
   "source": [
    "# Sum the comparison results.\n",
    "features.sum(axis=1).value_counts().sort_index(ascending=False)"
   ]
  },
  {
   "cell_type": "code",
   "execution_count": null,
   "metadata": {},
   "outputs": [],
   "source": [
    "features[features.sum(axis=1) > 1]"
   ]
  },
  {
   "cell_type": "code",
   "execution_count": null,
   "metadata": {},
   "outputs": [],
   "source": [
    "dfB.loc['rec-4652-dup-0']"
   ]
  },
  {
   "cell_type": "code",
   "execution_count": null,
   "metadata": {},
   "outputs": [],
   "source": [
    "dfA.loc['rec-2371-org']"
   ]
  },
  {
   "cell_type": "markdown",
   "metadata": {},
   "source": [
    "### Another Method\n",
    "Another option that I discussed with Olena was to use these techniques to find some actual matches and non-matches and then use a sample to run a random forest with those distance metrics and then create a model that way to match up certain ones. "
   ]
  }
 ],
 "metadata": {
  "kernelspec": {
   "display_name": "Python 3",
   "language": "python",
   "name": "python3"
  }
 },
 "nbformat": 4,
 "nbformat_minor": 4
}
